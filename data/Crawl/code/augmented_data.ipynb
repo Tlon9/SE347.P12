{
 "cells": [
  {
   "cell_type": "code",
   "execution_count": 1,
   "metadata": {},
   "outputs": [],
   "source": [
    "import firebase_admin\n",
    "from firebase_admin import credentials\n",
    "from firebase_admin import firestore\n",
    "\n",
    "cred = credentials.Certificate(\"dbtravelowkey-firebase-adminsdk-hzf4x-c99e13260f.json\")\n",
    "firebase_admin.initialize_app(cred)\n",
    "db = firestore.client()"
   ]
  },
  {
   "cell_type": "code",
   "execution_count": 4,
   "metadata": {},
   "outputs": [
    {
     "name": "stdout",
     "output_type": "stream",
     "text": [
      "644\n"
     ]
    }
   ],
   "source": [
    "import json\n",
    "with open('augmented_flights.json',encoding='utf-8') as f:\n",
    "    data = json.load(f)\n",
    "print(len(data))  "
   ]
  },
  {
   "cell_type": "code",
   "execution_count": 5,
   "metadata": {},
   "outputs": [
    {
     "data": {
      "text/plain": [
       "{'Id': 'VN14012024SGDA1',\n",
       " 'From': 'TP HCM (SGN)',\n",
       " 'To': 'Đà Nẵng (DAD)',\n",
       " 'Date': '14-01-2024',\n",
       " 'DepartureTime': '19:05',\n",
       " 'ArrivalTime': '20:25',\n",
       " 'TravelTime': '1h 20m',\n",
       " 'Stop_Direct': 'Bay thẳng',\n",
       " 'Name': 'Vietnam Airlines',\n",
       " 'SeatClass': 'Phổ thông',\n",
       " 'NumSeat': 20,\n",
       " 'Price': 1220000}"
      ]
     },
     "execution_count": 5,
     "metadata": {},
     "output_type": "execute_result"
    }
   ],
   "source": [
    "data[0]"
   ]
  },
  {
   "cell_type": "code",
   "execution_count": 3,
   "metadata": {},
   "outputs": [],
   "source": [
    "\n",
    "for ele in data: \n",
    "    doc_ref = db.collection(u'Flight').document(ele['Id'])\n",
    "    doc_ref.set(ele)"
   ]
  },
  {
   "cell_type": "code",
   "execution_count": 2,
   "metadata": {},
   "outputs": [],
   "source": [
    "doc_ref = db.collection('Bus')\n",
    "docs = doc_ref.get()"
   ]
  },
  {
   "cell_type": "code",
   "execution_count": 7,
   "metadata": {},
   "outputs": [],
   "source": [
    "check_list = []\n",
    "\n",
    "for ele in docs:\n",
    "    ele = ele.to_dict()\n",
    "    if ele['Date']=='2024-1-14':\n",
    "        check_list.append(ele)"
   ]
  },
  {
   "cell_type": "code",
   "execution_count": 25,
   "metadata": {},
   "outputs": [],
   "source": [
    "check_list2 = []\n",
    "for ele in check_list:\n",
    "    ele2 = ele.copy()\n",
    "    ele2['DesPoint'] = ele['PickPoint']\n",
    "    ele2['PickPoint'] = ele['DesPoint']\n",
    "    ele2['From'] = ele['To']\n",
    "    ele2['To'] = ele['From']\n",
    "    ele2['DepartureTime'] = ele['ArrivalTime']\n",
    "    ele2['Id'] = ele['Id']+'1'\n",
    "    hour = (int(ele2['DepartureTime'][:2])+1)%24\n",
    "    hour = str(hour)\n",
    "    if len(hour)==1:\n",
    "        hour = '0'+hour\n",
    "    ele2['DepartureTime'] = ele2['DepartureTime'].replace(ele2['DepartureTime'][:2],hour)\n",
    "    hour2= (int(ele2['DepartureTime'][:2])+int(ele['TravelTime'][0]))%24\n",
    "    hour2 = str(hour2)\n",
    "    if len(hour2)==1:\n",
    "        hour2 = '0'+hour2\n",
    "    ele2['ArrivalTime'] = ele2['DepartureTime'].replace(ele2['DepartureTime'][:2],hour2)\n",
    "    check_list2.append(ele2) "
   ]
  },
  {
   "cell_type": "code",
   "execution_count": null,
   "metadata": {},
   "outputs": [],
   "source": [
    "for i in range(len(check_list2)):\n",
    "    print(check_list[i])\n",
    "    print('VS')\n",
    "    print(check_list2[i])"
   ]
  },
  {
   "cell_type": "code",
   "execution_count": 27,
   "metadata": {},
   "outputs": [],
   "source": [
    "\n",
    "for ele in check_list2: \n",
    "    doc_ref = db.collection('Bus').document(ele['Id'])\n",
    "    doc_ref.set(ele)"
   ]
  }
 ],
 "metadata": {
  "kernelspec": {
   "display_name": "Python 3",
   "language": "python",
   "name": "python3"
  },
  "language_info": {
   "codemirror_mode": {
    "name": "ipython",
    "version": 3
   },
   "file_extension": ".py",
   "mimetype": "text/x-python",
   "name": "python",
   "nbconvert_exporter": "python",
   "pygments_lexer": "ipython3",
   "version": "3.11.4"
  }
 },
 "nbformat": 4,
 "nbformat_minor": 2
}
