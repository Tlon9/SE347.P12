{
 "cells": [
  {
   "cell_type": "code",
   "execution_count": 1,
   "metadata": {},
   "outputs": [],
   "source": [
    "from selenium import webdriver\n",
    "from selenium.webdriver.common.keys import Keys\n",
    "from selenium.webdriver.common.by import By\n",
    "import time\n",
    "import pandas as pd\n",
    "import random as rd\n",
    "import json"
   ]
  },
  {
   "cell_type": "markdown",
   "metadata": {},
   "source": [
    "# Vé máy bay"
   ]
  },
  {
   "cell_type": "code",
   "execution_count": 14,
   "metadata": {},
   "outputs": [],
   "source": [
    "links = [#'https://www.traveloka.com/vi-vn/flight/fullsearch?ap=SGN.HAN&dt=21-11-2023.NA&ps=1.0.0&sc=ECONOMY'\n",
    "         'https://www.traveloka.com/vi-vn/flight/fullsearch?ap=SGN.HAN&dt=21-11-2023.NA&ps=1.0.0&sc=PREMIUM_ECONOMY',\n",
    "         'https://www.traveloka.com/vi-vn/flight/fullsearch?ap=SGN.HAN&dt=21-11-2023.NA&ps=1.0.0&sc=BUSINESS',\n",
    "         'https://www.traveloka.com/vi-vn/flight/fullsearch?ap=HAN.SGN&dt=21-11-2023.NA&ps=1.0.0&sc=ECONOMY',\n",
    "         'https://www.traveloka.com/vi-vn/flight/fullsearch?ap=HAN.SGN&dt=21-11-2023.NA&ps=1.0.0&sc=PREMIUM_ECONOMY',\n",
    "         'https://www.traveloka.com/vi-vn/flight/fullsearch?ap=HAN.SGN&dt=21-11-2023.NA&ps=1.0.0&sc=BUSINESS',\n",
    "         'https://www.traveloka.com/vi-vn/flight/fullsearch?ap=SGN.DAD&dt=21-11-2023.NA&ps=1.0.0&sc=ECONOMY',\n",
    "         'https://www.traveloka.com/vi-vn/flight/fullsearch?ap=SGN.DAD&dt=21-11-2023.NA&ps=1.0.0&sc=PREMIUM_ECONOMY',\n",
    "         'https://www.traveloka.com/vi-vn/flight/fullsearch?ap=SGN.DAD&dt=21-11-2023.NA&ps=1.0.0&sc=BUSINESS',\n",
    "         'https://www.traveloka.com/vi-vn/flight/fullsearch?ap=SGN.PQC&dt=21-11-2023.NA&ps=1.0.0&sc=ECONOMY',\n",
    "         'https://www.traveloka.com/vi-vn/flight/fullsearch?ap=HAN.PQC&dt=21-11-2023.NA&ps=1.0.0&sc=ECONOMY',\n",
    "         'https://www.traveloka.com/vi-vn/flight/fullsearch?ap=HAN.DLI&dt=21-11-2023.NA&ps=1.0.0&sc=ECONOMY']\n",
    "\n",
    "flights = []\n",
    "for link in links:\n",
    "    driver = webdriver.Chrome()\n",
    "    driver.get(link)\n",
    "    time.sleep(rd.randint(20,30)) \n",
    "    index = 1\n",
    "    while index < 5:\n",
    "        flights.append([])\n",
    "        tab_index=driver.find_elements(By.XPATH,'//div[@class=\"css-1dbjc4n r-1loqt21 r-13awgt0 r-1otgn73 r-1i6wzkk r-lrvibr\"]')\n",
    "        tab_index[index].click()\n",
    "        time.sleep(rd.randint(5,7))\n",
    "        info = driver.find_element(By.XPATH, '//*[@id=\"flight-header-revamp\"]/div[2]/div[1]/div/div[1]/div[1]')\n",
    "        flights[-1].append(info.text)\n",
    "        driver.switch_to.window(driver.window_handles[-1])\n",
    "\n",
    "        last_scroll_height = driver.execute_script('return document.body.scrollHeight')\n",
    "        while True:\n",
    "                driver.execute_script('window.scrollTo(0,document.body.scrollHeight)')\n",
    "                time.sleep(rd.randint(2,3))\n",
    "                new_height = driver.execute_script('return document.body.scrollHeight')\n",
    "                if new_height == last_scroll_height:\n",
    "                    break\n",
    "                last_scroll_height = new_height\n",
    "\n",
    "        # flight = driver.find_element(By.XPATH, '//*[@id=\"FLIGHT_SEARCH_RESULT_CONTENT\"]/div[5]/div[3]/div/div')\n",
    "        airline = driver.find_elements(By.XPATH, '//div[@class=\"css-901oao css-cens5h r-t1w4ow r-ubezar r-majxgm r-135wba7 r-fdjqy7\"]')\n",
    "        info = driver.find_elements(By.XPATH, '//div[@class=\"css-1dbjc4n r-13awgt0 r-18u37iz r-1cmwbt1 r-1777fci\"]')\n",
    "        price = driver.find_elements(By.XPATH, '//h3[@class=\"css-4rbku5 css-901oao r-t1w4ow r-ubezar r-b88u0q r-rjixqe r-fdjqy7\"]')\n",
    "        airline_list = []\n",
    "        info_list = []\n",
    "        price_list = []\n",
    "        for i in airline:\n",
    "            if i.text != '':\n",
    "                airline_list.append(i.text)\n",
    "        for i in info:\n",
    "            if i.text != '':\n",
    "                info_list.append(i.text)\n",
    "        for i in price:\n",
    "            if i.text != '' and ('VND' in i.text):\n",
    "                price_list.append(i.text)\n",
    "        flights[-1].append(airline_list)\n",
    "        flights[-1].append(info_list)\n",
    "        flights[-1].append(price_list)\n",
    "        index+=1\n",
    "        last_scroll_height = driver.execute_script('return document.body.scrollHeight')\n",
    "        while True:\n",
    "                driver.execute_script('window.scrollTo(0,-document.body.scrollHeight)')\n",
    "                new_height = driver.execute_script('return document.body.scrollHeight')\n",
    "                if new_height == last_scroll_height:\n",
    "                    break\n",
    "                last_scroll_height = new_height\n",
    "        time.sleep(rd.randint(2,3))\n",
    "    driver.quit()"
   ]
  },
  {
   "cell_type": "code",
   "execution_count": 15,
   "metadata": {},
   "outputs": [
    {
     "name": "stdout",
     "output_type": "stream",
     "text": [
      "44\n"
     ]
    }
   ],
   "source": [
    "print(len(flights))"
   ]
  },
  {
   "cell_type": "code",
   "execution_count": 16,
   "metadata": {},
   "outputs": [],
   "source": [
    "with open('flights.txt','a',encoding='utf-8') as f:\n",
    "    for flight in flights:\n",
    "        for ele in range(len(flight[1])):\n",
    "            dict = {'info': flight[0].replace('\\n',' '),'airline':flight[1][ele].replace('\\n',' '),'detail':flight[2][ele].replace('\\n',' '),'price':flight[3][ele].replace('\\n',' ')}\n",
    "            f.writelines(json.dumps(dict,ensure_ascii=False)+'\\n')"
   ]
  },
  {
   "cell_type": "markdown",
   "metadata": {},
   "source": [
    "# Phòng khách sạn"
   ]
  },
  {
   "cell_type": "code",
   "execution_count": null,
   "metadata": {},
   "outputs": [],
   "source": [
    "links = [\n",
    "            # 'https://www.traveloka.com/vi-vn/hotel/search?spec=22-11-2023.23-11-2023.1.1.HOTEL_GEO.10009794.Th%C3%A0nh%20ph%E1%BB%91%20H%E1%BB%93%20Ch%C3%AD%20Minh.1']\n",
    "        #  'https://www.traveloka.com/vi-vn/hotel/search?spec=22-11-2023.23-11-2023.1.1.HOTEL_GEO.10009843.H%C3%A0%20N%E1%BB%99i.1']\n",
    "        #  'https://www.traveloka.com/vi-vn/hotel/search?spec=22-11-2023.23-11-2023.1.1.HOTEL_GEO.10009888.Th%C3%A0nh%20ph%E1%BB%91%20V%C5%A9ng%20T%C3%A0u.1']\n",
    "        #  'https://www.traveloka.com/vi-vn/hotel/search?spec=22-11-2023.23-11-2023.1.1.HOTEL_GEO.10010169.%C4%90%C3%A0%20L%E1%BA%A1t.1']\n",
    "         'https://www.traveloka.com/vi-vn/hotel/search?spec=22-11-2023.23-11-2023.1.1.HOTEL_GEO.10011570.Ph%C3%BA%20Qu%E1%BB%91c.1']\n",
    "for link in links:\n",
    "    driver = webdriver.Chrome()\n",
    "    driver.get(link)\n",
    "    time.sleep(rd.randint(20,30)) \n",
    "\n",
    "\n",
    "\n",
    "    button_list = driver.find_elements(By.XPATH, '//div[@class=\"css-18t94o4 css-1dbjc4n r-kdyh1x r-1loqt21 r-10paoce r-1e081e0 r-5njf8e r-1otgn73 r-lrvibr\"]')\n",
    "\n",
    "    for button in button_list:\n",
    "        driver.fullscreen_window()\n",
    "        if 'Chọn phòng' in button.text:\n",
    "            button.click()\n",
    "            driver.switch_to.window(driver.window_handles[-1])\n",
    "            time.sleep(rd.randint(7,10))\n",
    "            hotel = driver.find_element(By.XPATH, '//*[@id=\"__next\"]/div/div[5]/div[2]/div[1]/div[1]/h1')\n",
    "            address = driver.find_element(By.XPATH, '//div[@class=\"css-901oao css-cens5h r-cwxd7f r-13awgt0 r-t1w4ow r-1b43r93 r-majxgm r-rjixqe r-fdjqy7\"]')\n",
    "\n",
    "            last_scroll_height = driver.execute_script('return document.body.scrollHeight')\n",
    "            while True:\n",
    "                driver.execute_script('window.scrollTo(0,document.body.scrollHeight)')\n",
    "                time.sleep(rd.randint(2,3))\n",
    "                new_height = driver.execute_script('return document.body.scrollHeight')\n",
    "                if new_height == last_scroll_height:\n",
    "                    break\n",
    "                last_scroll_height = new_height\n",
    "\n",
    "            rooms = driver.find_elements(By.XPATH, '//div[@class=\"css-1dbjc4n r-14lw9ot r-kdyh1x r-da5iq2 r-bztko3 r-1guathk r-1yzf0co r-13qz1uu\"]')\n",
    "            imgs_src = driver.find_elements(By.XPATH, '//div[@class=\"css-1dbjc4n r-gtdqiz r-14qw7yl r-axxi2z r-173ath9\"]')\n",
    "            imgs_name = driver.find_elements(By.XPATH, '//div[@class=\"css-1dbjc4n r-1c9drh8 r-ttdzmv r-gtdqiz r-14qw7yl r-axxi2z r-8fdsdq\"]')\n",
    "            with open('hotel.txt','a',encoding='utf-8') as f:\n",
    "                dict = {'name': hotel.text,'address':address.text}\n",
    "                f.writelines(json.dumps(dict,ensure_ascii=False)+'\\n')\n",
    "            with open('rooms.txt','a',encoding='utf-8') as f:\n",
    "                for room in rooms:\n",
    "                    name = room.find_element(By.XPATH, './/div[@class=\"css-1dbjc4n r-1habvwh r-6koalj r-18u37iz r-1wtj0ep\"]').text\n",
    "                    max_people = room.find_element(By.XPATH, './/div[@class=\"css-901oao r-cwxd7f r-t1w4ow r-1b43r93 r-majxgm r-rjixqe r-fdjqy7\"]').text\n",
    "                    service = room.find_element(By.XPATH, './/div[@class=\"css-1dbjc4n r-6koalj r-13awgt0 r-eqz5dr r-1wtj0ep r-1wzrnnt r-gmdvlt\"]').text\n",
    "                    price = room.find_element(By.XPATH, './/div[@class=\"css-901oao r-173mn98 r-t1w4ow r-b88u0q r-135wba7 r-fdjqy7\"]').text\n",
    "                    dict = {'hotel':hotel.text,'name': name,'max_people':max_people,'service':service,'price':price}\n",
    "                    f.writelines(json.dumps(dict,ensure_ascii=False)+'\\n')\n",
    "            with open('imgs.txt','a',encoding='utf-8') as f:\n",
    "                for img_scr,img_name in zip(imgs_src,imgs_name):\n",
    "                    srcs = img_scr.find_elements(By.TAG_NAME, 'img')\n",
    "                    src_list =[]\n",
    "                    for src in srcs:\n",
    "                        src_list.append(src.get_attribute('src'))\n",
    "                    dict = {'img_name':img_name.text,'img_src': src_list}\n",
    "                    f.writelines(json.dumps(dict,ensure_ascii=False)+'\\n')\n",
    "            \n",
    "        driver.switch_to.window(driver.window_handles[0])\n",
    "    driver.quit()"
   ]
  },
  {
   "cell_type": "markdown",
   "metadata": {},
   "source": [
    "# Vé xe khách"
   ]
  },
  {
   "cell_type": "code",
   "execution_count": null,
   "metadata": {},
   "outputs": [],
   "source": [
    "links = ['https://www.traveloka.com/vi-vn/bus-and-shuttle/search?st=a10009794.a10009889&stt=CITY_GEO.CITY_GEO&stn=Th%C3%A0nh%20ph%E1%BB%91%20H%E1%BB%93%20Ch%C3%AD%20Minh.Ba%20Ria%20-%20Vung%20Tau&dt=22-11-2023.null&ps=1',\n",
    "         'https://www.traveloka.com/vi-vn/bus-and-shuttle/search?st=a10009794.a10010498&stt=CITY_GEO.CITY_GEO&stn=Th%C3%A0nh%20ph%E1%BB%91%20H%E1%BB%93%20Ch%C3%AD%20Minh.Nha%20Trang&dt=22-11-2023.null&ps=1',\n",
    "         'https://www.traveloka.com/vi-vn/bus-and-shuttle/search?st=a10009843.a10009800&stt=CITY_GEO.CITY_GEO&stn=H%C3%A0%20N%E1%BB%99i.Th%C3%A0nh%20ph%E1%BB%91%20H%E1%BA%A3i%20Ph%C3%B2ng&dt=22-11-2023.null&ps=1',\n",
    "         'https://www.traveloka.com/vi-vn/bus-and-shuttle/search?st=a10009843.a10010066&stt=CITY_GEO.CITY_GEO&stn=H%C3%A0%20N%E1%BB%99i.H%C3%A0%20T%C4%A9nh&dt=22-11-2023.null&ps=1',\n",
    "         'https://www.traveloka.com/vi-vn/bus-and-shuttle/search?st=a10010498.a10010000&stt=CITY_GEO.CITY_GEO&stn=Nha%20Trang.Lam%20Dong%20Province&dt=22-11-2023.null&ps=1',\n",
    "         'https://www.traveloka.com/vi-vn/bus-and-shuttle/search?st=a10010498.a10009794&stt=CITY_GEO.CITY_GEO&stn=Nha%20Trang.Th%C3%A0nh%20ph%E1%BB%91%20H%E1%BB%93%20Ch%C3%AD%20Minh&dt=22-11-2023.null&ps=1',\n",
    "         '']\n",
    "for link in links:\n",
    "    driver = webdriver.Chrome()\n",
    "    driver.get(link)\n",
    "    time.sleep(rd.randint(20,25)) \n",
    "\n",
    "    last_scroll_height = driver.execute_script('return document.body.scrollHeight')\n",
    "    while True:\n",
    "        driver.execute_script('window.scrollTo(0,document.body.scrollHeight)')\n",
    "        time.sleep(rd.randint(2,3))\n",
    "        new_height = driver.execute_script('return document.body.scrollHeight')\n",
    "        if new_height == last_scroll_height:\n",
    "            break\n",
    "        last_scroll_height = new_height\n",
    "\n",
    "    name =[]\n",
    "    num = []\n",
    "    detail = [] \n",
    "    price = []\n",
    "    info = driver.find_element(By.XPATH,'//*[@id=\"__next\"]/div[5]/div/div[1]/div[1]/div[1]').text\n",
    "    bus_list = driver.find_elements(By.XPATH, '//div[@class=\"css-1dbjc4n r-nsbfu8\"]')\n",
    "    for bus in bus_list:\n",
    "        name.append(bus.find_element(By.XPATH, './/h3[@class=\"css-4rbku5 css-901oao r-t1w4ow r-ubezar r-b88u0q r-rjixqe r-fdjqy7\"]').text)\n",
    "        num.append(bus.find_element(By.XPATH, './/div[@class=\"css-901oao r-t1w4ow r-1enofrn r-majxgm r-1cwl3u0 r-fdjqy7\"]').text)\n",
    "        detail.append(bus.find_element(By.XPATH, './/div[@class=\"css-1dbjc4n r-lgvlli r-18u37iz r-labphf\"]').text)\n",
    "        price.append(bus.find_element(By.XPATH, './/h2[@class=\"css-4rbku5 css-901oao r-t1w4ow r-adyw6z r-b88u0q r-135wba7 r-fdjqy7\"]').text)\n",
    "    with open('bus.txt','a',encoding='utf-8') as f:\n",
    "        for i in range(len(bus_list)):\n",
    "            dict = {'info': info.replace('\\n',' '),'bus':name[i].replace('\\n',' '),'num':num[i].replace('\\n',''),'detail':detail[i].replace('\\n',' '),'price':price[i].replace('\\n',' ')}\n",
    "            f.writelines(json.dumps(dict,ensure_ascii=False)+'\\n')\n",
    "    driver.quit()"
   ]
  },
  {
   "cell_type": "code",
   "execution_count": 12,
   "metadata": {},
   "outputs": [],
   "source": [
    "with open('bus.txt','a',encoding='utf-8') as f:\n",
    "    for i in range(len(bus_list)):\n",
    "        dict = {'info': info.replace('\\n',' '),'bus':name[i].replace('\\n',' '),'num':num[i].replace('\\n',''),'detail':detail[i].replace('\\n',' '),'price':price[i].replace('\\n',' ')}\n",
    "        f.writelines(json.dumps(dict,ensure_ascii=False)+'\\n')"
   ]
  },
  {
   "cell_type": "markdown",
   "metadata": {},
   "source": [
    "# Taxi"
   ]
  },
  {
   "cell_type": "code",
   "execution_count": null,
   "metadata": {},
   "outputs": [],
   "source": [
    "links = ['https://www.traveloka.com/vi-vn/car-rental/search?sd=22-11-2023&st=21-0&ed=22-11-2023&et=23-59&driverType=WITH_DRIVER&city=Da%20Nang&fromLocation=TVLK.10010083.PPR_ROUTE.CITY.City.Da%20Nang.%27%27.',\n",
    "         'https://www.traveloka.com/vi-vn/car-rental/search?sd=22-11-2023&st=21-0&ed=25-11-2023&et=9-0&driverType=WITHOUT_DRIVER&city=Da%20Nang&fromLocation=TVLK.10010083.PPR_ROUTE.CITY.City.Da%20Nang.%27%27.',\n",
    "         'https://www.traveloka.com/vi-vn/car-rental/search?sd=22-11-2023&st=21-0&ed=22-11-2023&et=23-59&driverType=WITH_DRIVER&city=Da%20Nang&fromLocation=TVLK.10010083.PPR_ROUTE.CITY.City.Da%20Nang.%27%27.',\n",
    "         'https://www.traveloka.com/vi-vn/car-rental/search?sd=23-11-2023&st=21-0&ed=23-11-2023&et=23-59&driverType=WITH_DRIVER&city=Da%20Lat&fromLocation=TVLK.10010169.PPR_ROUTE.CITY.City.Da%20Lat.%27%27.']\n",
    "for link in links:\n",
    "    driver = webdriver.Chrome()\n",
    "    driver.fullscreen_window()\n",
    "    driver.get(link)\n",
    "    time.sleep(5)\n",
    "    type = driver.find_element(By.XPATH,'//*[@id=\"__next\"]/div/div[4]/div/div[1]/div/div[1]/div/div[3]/div/div/h2')\n",
    "    info = driver.find_element(By.XPATH,'//*[@id=\"__next\"]/div/div[4]/div/div[1]/div/div[1]/div/div[3]/div/div/div[2]')\n",
    "    # info = info.find_element(By.XPATH,'.//div[@class=\"css-901oao r-t1w4ow r-1b43r93 r-majxgm r-rjixqe r-fdjqy7\"]')\n",
    "    last_scroll_height = driver.execute_script('return document.body.scrollHeight')\n",
    "    while True:\n",
    "        driver.execute_script('window.scrollTo(0,document.body.scrollHeight)')\n",
    "        time.sleep(rd.randint(3,5))\n",
    "        new_height = driver.execute_script('return document.body.scrollHeight')\n",
    "        if new_height == last_scroll_height:\n",
    "            break\n",
    "        last_scroll_height = new_height\n",
    "\n",
    "    name =[]\n",
    "    detail = [] \n",
    "    price = []\n",
    "    taxi_list = driver.find_elements(By.XPATH, '//div[@class=\"css-1dbjc4n r-18u37iz r-ymttw5 r-95jzfe\"]')\n",
    "    for taxi in taxi_list:\n",
    "        name.append(taxi.find_element(By.XPATH, './/h3[@class=\"css-4rbku5 css-901oao css-bfa6kz r-t1w4ow r-ubezar r-b88u0q r-rjixqe r-fdjqy7\"]').text)\n",
    "        detail.append(taxi.find_element(By.XPATH, './/div[@class=\"css-1dbjc4n r-1awozwy r-18u37iz r-1h0z5md\"]').text)\n",
    "        price.append(taxi.find_element(By.XPATH, './/h2[@class=\"css-4rbku5 css-901oao r-t1w4ow r-adyw6z r-b88u0q r-135wba7 r-fdjqy7\"]').text)\n",
    "    with open('taxi.txt','a',encoding='utf-8') as f:\n",
    "        for i in range(len(taxi_list)):\n",
    "            dict = {'info': info.text.replace('\\n',' '),'type':type.text,'taxi':name[i].replace('\\n',' '),'detail':detail[i].replace('\\n',' '),'price':price[i].replace('\\n',' ')+'/ngày'}\n",
    "            f.writelines(json.dumps(dict,ensure_ascii=False)+'\\n')\n",
    "    imgs_src = []\n",
    "    for taxi in taxi_list:\n",
    "        imgs_src.append(taxi.find_element(By.XPATH, './/div[@class=\"css-1dbjc4n\"]'))\n",
    "    with open('imgs_taxi.txt','a',encoding='utf-8') as f:\n",
    "        for img_src,img_name in zip(imgs_src,name):\n",
    "            src = img_src.find_element(By.TAG_NAME, 'img')\n",
    "            dict = {'img_name':img_name,'img_src': src.get_attribute('src')}\n",
    "            f.writelines(json.dumps(dict,ensure_ascii=False)+'\\n')\n",
    "    driver.quit()"
   ]
  },
  {
   "cell_type": "code",
   "execution_count": 13,
   "metadata": {},
   "outputs": [],
   "source": [
    "with open('taxi.txt','a',encoding='utf-8') as f:\n",
    "    for i in range(len(taxi_list)):\n",
    "        dict = {'info': info.text.replace('\\n',' '),'type':type.text,'taxi':name[i].replace('\\n',' '),'detail':detail[i].replace('\\n',' '),'price':price[i].replace('\\n',' ')+'/ngày'}\n",
    "        f.writelines(json.dumps(dict,ensure_ascii=False)+'\\n')"
   ]
  },
  {
   "cell_type": "code",
   "execution_count": 14,
   "metadata": {},
   "outputs": [],
   "source": [
    "imgs_src = []\n",
    "for taxi in taxi_list:\n",
    "    imgs_src.append(taxi.find_element(By.XPATH, './/div[@class=\"css-1dbjc4n\"]'))\n",
    "# for img_src in imgs_src:\n",
    "#     srcs = img_scr.find_element(By.TAG_NAME, 'img')\n",
    "#     src.get_attribute('src')\n",
    "with open('imgs_taxi.txt','a',encoding='utf-8') as f:\n",
    "    for img_src,img_name in zip(imgs_src,name):\n",
    "        src = img_src.find_element(By.TAG_NAME, 'img')\n",
    "        dict = {'img_name':img_name,'img_src': src.get_attribute('src')}\n",
    "        f.writelines(json.dumps(dict,ensure_ascii=False)+'\\n')"
   ]
  }
 ],
 "metadata": {
  "kernelspec": {
   "display_name": "Python 3",
   "language": "python",
   "name": "python3"
  },
  "language_info": {
   "codemirror_mode": {
    "name": "ipython",
    "version": 3
   },
   "file_extension": ".py",
   "mimetype": "text/x-python",
   "name": "python",
   "nbconvert_exporter": "python",
   "pygments_lexer": "ipython3",
   "version": "3.11.4"
  }
 },
 "nbformat": 4,
 "nbformat_minor": 2
}
